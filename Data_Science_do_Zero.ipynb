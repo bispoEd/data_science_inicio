{
  "cells": [
    {
      "cell_type": "markdown",
      "metadata": {
        "id": "view-in-github",
        "colab_type": "text"
      },
      "source": [
        "<a href=\"https://colab.research.google.com/github/bispoEd/data_science_inicio/blob/main/Data_Science_do_Zero.ipynb\" target=\"_parent\"><img src=\"https://colab.research.google.com/assets/colab-badge.svg\" alt=\"Open In Colab\"/></a>"
      ]
    },
    {
      "cell_type": "markdown",
      "metadata": {
        "id": "srTbLvgCp2N0"
      },
      "source": [
        "# Este notebook será utilizado para desenvolvimento das ativiades propostas pelo livro citado no título.\n",
        "\n",
        "\n",
        "\n",
        "\n"
      ]
    },
    {
      "cell_type": "markdown",
      "metadata": {
        "id": "SX8obe-Yqs2f"
      },
      "source": [
        "## Curso Relâmpago de Python\n",
        "\n",
        "---"
      ]
    },
    {
      "cell_type": "markdown",
      "metadata": {
        "id": "lD-IU0YJKT5h"
      },
      "source": [
        "Ordenação"
      ]
    },
    {
      "cell_type": "code",
      "execution_count": null,
      "metadata": {
        "id": "GLSZBYj_KWlS"
      },
      "outputs": [],
      "source": [
        "x= [4,3,2,1]\n",
        "y= sorted(x)  # O x continua inalterado\n",
        "\n",
        "print(x)\n",
        "print(y)\n",
        "\n",
        "y.sort(reverse=True)\n",
        "\n",
        "print(y)"
      ]
    },
    {
      "cell_type": "code",
      "execution_count": null,
      "metadata": {
        "id": "gznYICW_rpt6"
      },
      "outputs": [],
      "source": [
        "\n",
        "even_numbers= [x for in range(5) if %2==0]"
      ]
    },
    {
      "cell_type": "code",
      "execution_count": null,
      "metadata": {
        "id": "MsFtM9ua6XS9"
      },
      "outputs": [],
      "source": [
        "import random\n",
        "\n",
        "four_with_replacement = (range(100))\n",
        "for _ in range(5)\n",
        "\n",
        "print(four_with_replacement)"
      ]
    },
    {
      "cell_type": "markdown",
      "source": [
        "## Estatística\n"
      ],
      "metadata": {
        "id": "tcC_HJz0NBsJ"
      }
    },
    {
      "cell_type": "markdown",
      "source": [
        "Começando pelo básico"
      ],
      "metadata": {
        "id": "SiwGxxAuNM10"
      }
    },
    {
      "cell_type": "code",
      "source": [
        "num_points = len(num_friends) # Número de pontos nos dados\n",
        "\n",
        "maior_valor= max(num_friends) # Maior valor encontrado nos dados\n",
        "menor_valor= min(num_friends) # Menor valor encontrado nos dados"
      ],
      "metadata": {
        "id": "o5l_C2P6NRoo"
      },
      "execution_count": null,
      "outputs": []
    },
    {
      "cell_type": "markdown",
      "source": [
        "Tendências centrais"
      ],
      "metadata": {
        "id": "M0dvfgTmO2Aq"
      }
    },
    {
      "cell_type": "code",
      "source": [
        "def mean(x): #Função para cálculo de média\n",
        "  return sum(x) / len(x)"
      ],
      "metadata": {
        "id": "oeqqMLRbO8mn"
      },
      "execution_count": 53,
      "outputs": []
    },
    {
      "cell_type": "code",
      "source": [
        "def median(v):                         # Formula para calculo da mediana, ou seja, valor do meio da amostra(caso amostra seja impar) \n",
        "  n= len(v)                            # e valor médio dos valores do meio em caso de amostra par\n",
        "  sorted_v= sorted(v)\n",
        "  midpoint = n//2\n",
        "  \n",
        "  if n%2==1:\n",
        "    return sorted_v[midpoint]\n",
        "  else:\n",
        "    lo= midpoint -1\n",
        "    hi= midpoint\n",
        "    return (sorted_v[lo]+ sorted_v[hi] / 2)"
      ],
      "metadata": {
        "id": "PGkFI59rPRMH"
      },
      "execution_count": 54,
      "outputs": []
    },
    {
      "cell_type": "code",
      "source": [
        "def quantile(x, p):\n",
        "  p_index = int(p * len(x))\n",
        "  return sorted(x)[p_index]\n",
        "  quantile(num_friends, 0.10) # 1\n",
        "  quantile(num_friends, 0.25) # 3\n",
        "  quantile(num_friends, 0.75) # 9\n",
        "  quantile(num_friends, 0.90) # 13"
      ],
      "metadata": {
        "id": "ylcyqOYbVBC5"
      },
      "execution_count": 51,
      "outputs": []
    },
    {
      "cell_type": "code",
      "source": [
        "def mode(x):\n",
        "  counts = Counter(x)\n",
        "  max_count = max(counts.values())\n",
        "  return [x_i for x_i, count in counts.iteritems()\n",
        "  if count == max_count]\n",
        "  mode(num_friends)"
      ],
      "metadata": {
        "id": "LwzF6I_lWjAV"
      },
      "execution_count": 49,
      "outputs": []
    },
    {
      "cell_type": "code",
      "source": [
        "def data_range(x): # Definição de amplitude. Ou seja a diferença entre o valor máximo e mínimo encontrado na amostra\n",
        "  return max(x) - min(x)\n",
        "  data_range(num_friends)"
      ],
      "metadata": {
        "id": "vyh06bkIXI9F"
      },
      "execution_count": 52,
      "outputs": []
    },
    {
      "cell_type": "markdown",
      "source": [
        "Medidas de dispersão"
      ],
      "metadata": {
        "id": "r8UTs-jsX6XG"
      }
    },
    {
      "cell_type": "code",
      "source": [
        "def de_mean(x):\n",
        "  x_bar = mean(x)\n",
        "  return [x_i - x_bar for x_i in x]\n",
        "\n",
        "def variance(x): # Definição de variância\n",
        "  n = len(x)\n",
        "  deviations = de_mean(x)\n",
        "  return sum_of_squares(deviations) / (n - 1)\n",
        "\n",
        "def standard_deviation(x): # Definição de desvio padrão\n",
        "return math.sqrt(variance(x))\n",
        "\n",
        "def interquartile_range(x): # Definição interquartil\n",
        "  return quantile(x, 0.75) - quantile(x, 0.25)"
      ],
      "metadata": {
        "id": "Te1atlTvX-YM"
      },
      "execution_count": 55,
      "outputs": []
    },
    {
      "cell_type": "code",
      "source": [
        "##Covariância\n",
        "\n",
        "def covariance(x, y):\n",
        "  n = len(x)\n",
        "  return dot(de_mean(x), de_mean(y)) / (n - 1)\n",
        "covariance(num_friends, daily_minutes) # 22.43\n",
        "\n",
        "##Correlação\n",
        "\n",
        "def correlation(x, y):\n",
        "  stdev_x = standard_deviation(x)\n",
        "  stdev_y = standard_deviation(y)\n",
        "  if stdev_x > 0 and stdev_y > 0:\n",
        "    return covariance(x, y) / stdev_x / stdev_y\n",
        "  else:\n",
        "    return 0 # se não houver amplitude, a correlação é zero\n",
        "correlation(num_friends, daily_minutes) # 0.25\n",
        "\n",
        "## Valores discrepantes\n",
        "\n",
        "outlier = num_friends.index(100) # índice do valor discrepante\n",
        "num_friends_good = [x\n",
        "                    for i, x in enumerate(num_friends)\n",
        "                    if i != outlier]\n",
        "daily_minutes_good = [x\n",
        "                      for i, x in enumerate(daily_minutes)\n",
        "                      if i != outlier]\n",
        "correlation(num_friends_good, daily_minutes_good) # 0.57"
      ],
      "metadata": {
        "id": "MdNetSX7Zkx8"
      },
      "execution_count": null,
      "outputs": []
    }
  ],
  "metadata": {
    "colab": {
      "provenance": [],
      "authorship_tag": "ABX9TyNdNv16PoQRwtISvnput+5Q",
      "include_colab_link": true
    },
    "kernelspec": {
      "display_name": "Python 3",
      "name": "python3"
    },
    "language_info": {
      "name": "python"
    }
  },
  "nbformat": 4,
  "nbformat_minor": 0
}