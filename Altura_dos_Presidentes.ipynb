{
  "nbformat": 4,
  "nbformat_minor": 0,
  "metadata": {
    "colab": {
      "provenance": [],
      "authorship_tag": "ABX9TyOiwvkvepUVv9dbCP8wo7Co",
      "include_colab_link": true
    },
    "kernelspec": {
      "name": "python3",
      "display_name": "Python 3"
    },
    "language_info": {
      "name": "python"
    }
  },
  "cells": [
    {
      "cell_type": "markdown",
      "metadata": {
        "id": "view-in-github",
        "colab_type": "text"
      },
      "source": [
        "<a href=\"https://colab.research.google.com/github/bispoEd/data_science_inicio/blob/main/Altura_dos_Presidentes.ipynb\" target=\"_parent\"><img src=\"https://colab.research.google.com/assets/colab-badge.svg\" alt=\"Open In Colab\"/></a>"
      ]
    },
    {
      "cell_type": "code",
      "execution_count": null,
      "metadata": {
        "colab": {
          "base_uri": "https://localhost:8080/"
        },
        "id": "R4huTTmqKB0v",
        "outputId": "d720c898-8bf9-46c6-a1e0-37e2d351ef85"
      },
      "outputs": [
        {
          "output_type": "stream",
          "name": "stdout",
          "text": [
            "   order               name  height(cm)\n",
            "0      1  George Washington         189\n",
            "1      2         John Adams         170\n",
            "2      3   Thomas Jefferson         189\n",
            "3      4      James Madison         163\n",
            "4      5       James Monroe         183\n"
          ]
        }
      ],
      "source": [
        "import pandas as pd\n",
        "import numpy as np\n",
        "\n",
        "data= pd.read_csv(\"/content/sample_data/presidents.csv\")\n",
        "print (data.head(5))"
      ]
    },
    {
      "cell_type": "code",
      "source": [
        "height= pd.array(data['height(cm)'])\n",
        "print(height)"
      ],
      "metadata": {
        "id": "DM0-7-Z0cmr3"
      },
      "execution_count": null,
      "outputs": []
    },
    {
      "cell_type": "code",
      "source": [
        "print(\"Média de altura = \", height.mean())\n",
        "print(\"desvio padrão da altura = \", height.std())\n",
        "print(\"Altura mínima = \", height.min())\n",
        "print(\"Altura máxima = \", height.max())"
      ],
      "metadata": {
        "colab": {
          "base_uri": "https://localhost:8080/"
        },
        "id": "ud3FoE3lc-57",
        "outputId": "d928edcf-dd77-4ada-cfef-17f1f7224bbd"
      },
      "execution_count": null,
      "outputs": [
        {
          "output_type": "stream",
          "name": "stdout",
          "text": [
            "Média de altura =  179.73809523809524\n",
            "desvio padrão da altura =  7.0158688553582955\n",
            "Altura mínima =  163\n",
            "Altura máxima =  193\n"
          ]
        }
      ]
    },
    {
      "cell_type": "code",
      "source": [
        "print(\"25% =\", np.percentile(height,25))\n",
        "print(\"Média = \", np.median(height))\n",
        "print(\"75% = \", np.percentile(height,75))"
      ],
      "metadata": {
        "colab": {
          "base_uri": "https://localhost:8080/"
        },
        "id": "97fGJdYjdnnG",
        "outputId": "6fe7f68a-125b-4b11-ff41-a84df16f77d4"
      },
      "execution_count": null,
      "outputs": [
        {
          "output_type": "stream",
          "name": "stdout",
          "text": [
            "25% = 174.25\n",
            "Média =  182.0\n",
            "75% =  183.0\n"
          ]
        }
      ]
    },
    {
      "cell_type": "code",
      "source": [
        "import matplotlib.pyplot as plt\n",
        "import seaborn as sns\n",
        "sns.set()"
      ],
      "metadata": {
        "id": "wjGJW24SeZbl"
      },
      "execution_count": null,
      "outputs": []
    },
    {
      "cell_type": "code",
      "source": [
        "plt.hist(height)\n",
        "plt.title(\"Distribuiçaõ da altura dos Presidentes do EUA\")\n",
        "plt.xlabel(\"Altura(cm)\")\n",
        "plt.ylabel(\"Quantidade\")\n",
        "plt.show()"
      ],
      "metadata": {
        "colab": {
          "base_uri": "https://localhost:8080/",
          "height": 301
        },
        "id": "5a4_r0TQekNO",
        "outputId": "1d6b307a-b215-40f4-a588-1433ee32f332"
      },
      "execution_count": null,
      "outputs": [
        {
          "output_type": "display_data",
          "data": {
            "text/plain": [
              "<Figure size 432x288 with 1 Axes>"
            ],
            "image/png": "[encoded data removed]"
          },
          "metadata": {}
        }
      ]
    }
  ]
}